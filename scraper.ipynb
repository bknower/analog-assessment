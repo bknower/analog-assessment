{
 "cells": [
  {
   "cell_type": "code",
   "execution_count": 4,
   "metadata": {},
   "outputs": [],
   "source": [
    "import requests\n",
    "from bs4 import BeautifulSoup"
   ]
  },
  {
   "cell_type": "code",
   "execution_count": 11,
   "metadata": {},
   "outputs": [
    {
     "name": "stdout",
     "output_type": "stream",
     "text": [
      "\n",
      "        bbgo\n",
      "\n",
      "        Pux\n",
      "\n",
      "        requestgen\n",
      "\n",
      "        PHPUnit_TestMore\n",
      "\n",
      "        r3\n",
      "\n",
      "        simcity-pi\n",
      "\n",
      "        CLIFramework\n",
      "\n",
      "        GetOptionKit\n",
      "\n",
      "        callbackgen\n",
      "\n",
      "        awesome-go\n",
      "\n",
      "        bbgo-template\n",
      "\n",
      "        bbgo-chaser\n",
      "\n",
      "        AssetKit\n",
      "\n",
      "        universal\n",
      "\n",
      "        react-timeline-range-slider\n",
      "\n",
      "        rockhopper\n",
      "\n",
      "        requestgen-tutorial\n",
      "\n",
      "        c9s\n",
      "\n",
      "        WebAction\n",
      "\n",
      "        go-binance\n",
      "\n",
      "        gomon\n",
      "\n",
      "        webhooks.js\n",
      "\n",
      "        my-lucky-draw-telegram-bot\n",
      "\n",
      "        interact\n",
      "\n",
      "        github-taiwan\n",
      "\n",
      "        market-hopper\n",
      "\n",
      "        carbon-tutorial\n",
      "\n",
      "        go-app\n",
      "\n",
      "        quickswap-default-token-list\n",
      "\n",
      "        SQLBuilder\n"
     ]
    }
   ],
   "source": [
    "user = \"c9s\"\n",
    "page_number = 1\n",
    "\n",
    "results = []\n",
    "while True:\n",
    "    url = f\"https://github.com/{user}?page={page_number}&tab=repositories\"\n",
    "    page = requests.get(url)\n",
    "\n",
    "\n",
    "    soup = BeautifulSoup(page.content, \"html.parser\")\n",
    "    result = soup.find_all(itemprop=\"name codeRepository\")\n",
    "    if len(result) == 0:\n",
    "        break\n",
    "    results.extend(result)\n",
    "    page_number += 1\n",
    "\n",
    "for result in results:\n",
    "    print(result.text)"
   ]
  }
 ],
 "metadata": {
  "kernelspec": {
   "display_name": "venv",
   "language": "python",
   "name": "python3"
  },
  "language_info": {
   "codemirror_mode": {
    "name": "ipython",
    "version": 3
   },
   "file_extension": ".py",
   "mimetype": "text/x-python",
   "name": "python",
   "nbconvert_exporter": "python",
   "pygments_lexer": "ipython3",
   "version": "3.11.0"
  },
  "orig_nbformat": 4
 },
 "nbformat": 4,
 "nbformat_minor": 2
}
